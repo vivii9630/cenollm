{
 "cells": [
  {
   "cell_type": "code",
   "execution_count": 36,
   "id": "b040db2b-c932-4172-a9b9-ddfc212e2fec",
   "metadata": {},
   "outputs": [],
   "source": [
    "import leafmap.maplibregl as leafmap\n",
    "import leafmap as lp"
   ]
  },
  {
   "cell_type": "code",
   "execution_count": 40,
   "id": "905f2898-0eaa-4980-9187-e25d5bb7571e",
   "metadata": {},
   "outputs": [
    {
     "ename": "UnicodeDecodeError",
     "evalue": "'utf-8' codec can't decode byte 0xc6 in position 27: invalid continuation byte",
     "output_type": "error",
     "traceback": [
      "\u001b[1;31m---------------------------------------------------------------------------\u001b[0m",
      "\u001b[1;31mUnicodeDecodeError\u001b[0m                        Traceback (most recent call last)",
      "Cell \u001b[1;32mIn[40], line 36\u001b[0m\n\u001b[0;32m     34\u001b[0m data \u001b[38;5;241m=\u001b[39m \u001b[38;5;124m\"\u001b[39m\u001b[38;5;124mTAQAWCFE.shp\u001b[39m\u001b[38;5;124m\"\u001b[39m\n\u001b[0;32m     35\u001b[0m m \u001b[38;5;241m=\u001b[39m leafmap\u001b[38;5;241m.\u001b[39mMap(style\u001b[38;5;241m=\u001b[39mstyle)\n\u001b[1;32m---> 36\u001b[0m \u001b[43mm\u001b[49m\u001b[38;5;241;43m.\u001b[39;49m\u001b[43madd_gps_trace\u001b[49m\u001b[43m(\u001b[49m\u001b[43mdata\u001b[49m\u001b[43m,\u001b[49m\u001b[43m  \u001b[49m\u001b[43madd_line\u001b[49m\u001b[38;5;241;43m=\u001b[39;49m\u001b[38;5;28;43;01mTrue\u001b[39;49;00m\u001b[43m)\u001b[49m\n\u001b[0;32m     37\u001b[0m m\u001b[38;5;241m.\u001b[39madd_layer_control()\n\u001b[0;32m     38\u001b[0m m\n",
      "File \u001b[1;32m~\\AppData\\Local\\anaconda3\\envs\\cenogis\\Lib\\site-packages\\leafmap\\maplibregl.py:3638\u001b[0m, in \u001b[0;36mMap.add_gps_trace\u001b[1;34m(self, data, x, y, columns, ann_column, colormap, radius, circle_color, stroke_color, opacity, paint, name, add_line, sort_column, line_args, add_draw_control, draw_control_args, add_legend, legend_args, **kwargs)\u001b[0m\n\u001b[0;32m   3636\u001b[0m \u001b[38;5;28;01mif\u001b[39;00m \u001b[38;5;28misinstance\u001b[39m(data, \u001b[38;5;28mstr\u001b[39m):\n\u001b[0;32m   3637\u001b[0m     tmp_file \u001b[38;5;241m=\u001b[39m os\u001b[38;5;241m.\u001b[39mpath\u001b[38;5;241m.\u001b[39msplitext(data)[\u001b[38;5;241m0\u001b[39m] \u001b[38;5;241m+\u001b[39m \u001b[38;5;124m\"\u001b[39m\u001b[38;5;124m_tmp.csv\u001b[39m\u001b[38;5;124m\"\u001b[39m\n\u001b[1;32m-> 3638\u001b[0m     gdf \u001b[38;5;241m=\u001b[39m \u001b[43mcommon\u001b[49m\u001b[38;5;241;43m.\u001b[39;49m\u001b[43mpoints_from_xy\u001b[49m\u001b[43m(\u001b[49m\u001b[43mdata\u001b[49m\u001b[43m,\u001b[49m\u001b[43m \u001b[49m\u001b[43mx\u001b[49m\u001b[38;5;241;43m=\u001b[39;49m\u001b[43mx\u001b[49m\u001b[43m,\u001b[49m\u001b[43m \u001b[49m\u001b[43my\u001b[49m\u001b[38;5;241;43m=\u001b[39;49m\u001b[43my\u001b[49m\u001b[43m)\u001b[49m\n\u001b[0;32m   3639\u001b[0m     \u001b[38;5;66;03m# If the temporary file exists, read the annotations from it\u001b[39;00m\n\u001b[0;32m   3640\u001b[0m     \u001b[38;5;28;01mif\u001b[39;00m os\u001b[38;5;241m.\u001b[39mpath\u001b[38;5;241m.\u001b[39mexists(tmp_file):\n",
      "File \u001b[1;32m~\\AppData\\Local\\anaconda3\\envs\\cenogis\\Lib\\site-packages\\leafmap\\common.py:3208\u001b[0m, in \u001b[0;36mpoints_from_xy\u001b[1;34m(data, x, y, z, crs, **kwargs)\u001b[0m\n\u001b[0;32m   3206\u001b[0m         \u001b[38;5;28;01mraise\u001b[39;00m \u001b[38;5;167;01mFileNotFoundError\u001b[39;00m(\u001b[38;5;124m\"\u001b[39m\u001b[38;5;124mThe specified input csv does not exist.\u001b[39m\u001b[38;5;124m\"\u001b[39m)\n\u001b[0;32m   3207\u001b[0m     \u001b[38;5;28;01melse\u001b[39;00m:\n\u001b[1;32m-> 3208\u001b[0m         df \u001b[38;5;241m=\u001b[39m \u001b[43mpd\u001b[49m\u001b[38;5;241;43m.\u001b[39;49m\u001b[43mread_csv\u001b[49m\u001b[43m(\u001b[49m\u001b[43mdata\u001b[49m\u001b[43m,\u001b[49m\u001b[43m \u001b[49m\u001b[38;5;241;43m*\u001b[39;49m\u001b[38;5;241;43m*\u001b[39;49m\u001b[43mkwargs\u001b[49m\u001b[43m)\u001b[49m\n\u001b[0;32m   3209\u001b[0m \u001b[38;5;28;01melse\u001b[39;00m:\n\u001b[0;32m   3210\u001b[0m     \u001b[38;5;28;01mraise\u001b[39;00m \u001b[38;5;167;01mTypeError\u001b[39;00m(\u001b[38;5;124m\"\u001b[39m\u001b[38;5;124mThe data must be a pandas DataFrame or a csv file path.\u001b[39m\u001b[38;5;124m\"\u001b[39m)\n",
      "File \u001b[1;32m~\\AppData\\Local\\anaconda3\\envs\\cenogis\\Lib\\site-packages\\pandas\\io\\parsers\\readers.py:1026\u001b[0m, in \u001b[0;36mread_csv\u001b[1;34m(filepath_or_buffer, sep, delimiter, header, names, index_col, usecols, dtype, engine, converters, true_values, false_values, skipinitialspace, skiprows, skipfooter, nrows, na_values, keep_default_na, na_filter, verbose, skip_blank_lines, parse_dates, infer_datetime_format, keep_date_col, date_parser, date_format, dayfirst, cache_dates, iterator, chunksize, compression, thousands, decimal, lineterminator, quotechar, quoting, doublequote, escapechar, comment, encoding, encoding_errors, dialect, on_bad_lines, delim_whitespace, low_memory, memory_map, float_precision, storage_options, dtype_backend)\u001b[0m\n\u001b[0;32m   1013\u001b[0m kwds_defaults \u001b[38;5;241m=\u001b[39m _refine_defaults_read(\n\u001b[0;32m   1014\u001b[0m     dialect,\n\u001b[0;32m   1015\u001b[0m     delimiter,\n\u001b[1;32m   (...)\u001b[0m\n\u001b[0;32m   1022\u001b[0m     dtype_backend\u001b[38;5;241m=\u001b[39mdtype_backend,\n\u001b[0;32m   1023\u001b[0m )\n\u001b[0;32m   1024\u001b[0m kwds\u001b[38;5;241m.\u001b[39mupdate(kwds_defaults)\n\u001b[1;32m-> 1026\u001b[0m \u001b[38;5;28;01mreturn\u001b[39;00m \u001b[43m_read\u001b[49m\u001b[43m(\u001b[49m\u001b[43mfilepath_or_buffer\u001b[49m\u001b[43m,\u001b[49m\u001b[43m \u001b[49m\u001b[43mkwds\u001b[49m\u001b[43m)\u001b[49m\n",
      "File \u001b[1;32m~\\AppData\\Local\\anaconda3\\envs\\cenogis\\Lib\\site-packages\\pandas\\io\\parsers\\readers.py:620\u001b[0m, in \u001b[0;36m_read\u001b[1;34m(filepath_or_buffer, kwds)\u001b[0m\n\u001b[0;32m    617\u001b[0m _validate_names(kwds\u001b[38;5;241m.\u001b[39mget(\u001b[38;5;124m\"\u001b[39m\u001b[38;5;124mnames\u001b[39m\u001b[38;5;124m\"\u001b[39m, \u001b[38;5;28;01mNone\u001b[39;00m))\n\u001b[0;32m    619\u001b[0m \u001b[38;5;66;03m# Create the parser.\u001b[39;00m\n\u001b[1;32m--> 620\u001b[0m parser \u001b[38;5;241m=\u001b[39m \u001b[43mTextFileReader\u001b[49m\u001b[43m(\u001b[49m\u001b[43mfilepath_or_buffer\u001b[49m\u001b[43m,\u001b[49m\u001b[43m \u001b[49m\u001b[38;5;241;43m*\u001b[39;49m\u001b[38;5;241;43m*\u001b[39;49m\u001b[43mkwds\u001b[49m\u001b[43m)\u001b[49m\n\u001b[0;32m    622\u001b[0m \u001b[38;5;28;01mif\u001b[39;00m chunksize \u001b[38;5;129;01mor\u001b[39;00m iterator:\n\u001b[0;32m    623\u001b[0m     \u001b[38;5;28;01mreturn\u001b[39;00m parser\n",
      "File \u001b[1;32m~\\AppData\\Local\\anaconda3\\envs\\cenogis\\Lib\\site-packages\\pandas\\io\\parsers\\readers.py:1620\u001b[0m, in \u001b[0;36mTextFileReader.__init__\u001b[1;34m(self, f, engine, **kwds)\u001b[0m\n\u001b[0;32m   1617\u001b[0m     \u001b[38;5;28mself\u001b[39m\u001b[38;5;241m.\u001b[39moptions[\u001b[38;5;124m\"\u001b[39m\u001b[38;5;124mhas_index_names\u001b[39m\u001b[38;5;124m\"\u001b[39m] \u001b[38;5;241m=\u001b[39m kwds[\u001b[38;5;124m\"\u001b[39m\u001b[38;5;124mhas_index_names\u001b[39m\u001b[38;5;124m\"\u001b[39m]\n\u001b[0;32m   1619\u001b[0m \u001b[38;5;28mself\u001b[39m\u001b[38;5;241m.\u001b[39mhandles: IOHandles \u001b[38;5;241m|\u001b[39m \u001b[38;5;28;01mNone\u001b[39;00m \u001b[38;5;241m=\u001b[39m \u001b[38;5;28;01mNone\u001b[39;00m\n\u001b[1;32m-> 1620\u001b[0m \u001b[38;5;28mself\u001b[39m\u001b[38;5;241m.\u001b[39m_engine \u001b[38;5;241m=\u001b[39m \u001b[38;5;28;43mself\u001b[39;49m\u001b[38;5;241;43m.\u001b[39;49m\u001b[43m_make_engine\u001b[49m\u001b[43m(\u001b[49m\u001b[43mf\u001b[49m\u001b[43m,\u001b[49m\u001b[43m \u001b[49m\u001b[38;5;28;43mself\u001b[39;49m\u001b[38;5;241;43m.\u001b[39;49m\u001b[43mengine\u001b[49m\u001b[43m)\u001b[49m\n",
      "File \u001b[1;32m~\\AppData\\Local\\anaconda3\\envs\\cenogis\\Lib\\site-packages\\pandas\\io\\parsers\\readers.py:1898\u001b[0m, in \u001b[0;36mTextFileReader._make_engine\u001b[1;34m(self, f, engine)\u001b[0m\n\u001b[0;32m   1895\u001b[0m     \u001b[38;5;28;01mraise\u001b[39;00m \u001b[38;5;167;01mValueError\u001b[39;00m(msg)\n\u001b[0;32m   1897\u001b[0m \u001b[38;5;28;01mtry\u001b[39;00m:\n\u001b[1;32m-> 1898\u001b[0m     \u001b[38;5;28;01mreturn\u001b[39;00m \u001b[43mmapping\u001b[49m\u001b[43m[\u001b[49m\u001b[43mengine\u001b[49m\u001b[43m]\u001b[49m\u001b[43m(\u001b[49m\u001b[43mf\u001b[49m\u001b[43m,\u001b[49m\u001b[43m \u001b[49m\u001b[38;5;241;43m*\u001b[39;49m\u001b[38;5;241;43m*\u001b[39;49m\u001b[38;5;28;43mself\u001b[39;49m\u001b[38;5;241;43m.\u001b[39;49m\u001b[43moptions\u001b[49m\u001b[43m)\u001b[49m\n\u001b[0;32m   1899\u001b[0m \u001b[38;5;28;01mexcept\u001b[39;00m \u001b[38;5;167;01mException\u001b[39;00m:\n\u001b[0;32m   1900\u001b[0m     \u001b[38;5;28;01mif\u001b[39;00m \u001b[38;5;28mself\u001b[39m\u001b[38;5;241m.\u001b[39mhandles \u001b[38;5;129;01mis\u001b[39;00m \u001b[38;5;129;01mnot\u001b[39;00m \u001b[38;5;28;01mNone\u001b[39;00m:\n",
      "File \u001b[1;32m~\\AppData\\Local\\anaconda3\\envs\\cenogis\\Lib\\site-packages\\pandas\\io\\parsers\\c_parser_wrapper.py:93\u001b[0m, in \u001b[0;36mCParserWrapper.__init__\u001b[1;34m(self, src, **kwds)\u001b[0m\n\u001b[0;32m     90\u001b[0m \u001b[38;5;28;01mif\u001b[39;00m kwds[\u001b[38;5;124m\"\u001b[39m\u001b[38;5;124mdtype_backend\u001b[39m\u001b[38;5;124m\"\u001b[39m] \u001b[38;5;241m==\u001b[39m \u001b[38;5;124m\"\u001b[39m\u001b[38;5;124mpyarrow\u001b[39m\u001b[38;5;124m\"\u001b[39m:\n\u001b[0;32m     91\u001b[0m     \u001b[38;5;66;03m# Fail here loudly instead of in cython after reading\u001b[39;00m\n\u001b[0;32m     92\u001b[0m     import_optional_dependency(\u001b[38;5;124m\"\u001b[39m\u001b[38;5;124mpyarrow\u001b[39m\u001b[38;5;124m\"\u001b[39m)\n\u001b[1;32m---> 93\u001b[0m \u001b[38;5;28mself\u001b[39m\u001b[38;5;241m.\u001b[39m_reader \u001b[38;5;241m=\u001b[39m \u001b[43mparsers\u001b[49m\u001b[38;5;241;43m.\u001b[39;49m\u001b[43mTextReader\u001b[49m\u001b[43m(\u001b[49m\u001b[43msrc\u001b[49m\u001b[43m,\u001b[49m\u001b[43m \u001b[49m\u001b[38;5;241;43m*\u001b[39;49m\u001b[38;5;241;43m*\u001b[39;49m\u001b[43mkwds\u001b[49m\u001b[43m)\u001b[49m\n\u001b[0;32m     95\u001b[0m \u001b[38;5;28mself\u001b[39m\u001b[38;5;241m.\u001b[39munnamed_cols \u001b[38;5;241m=\u001b[39m \u001b[38;5;28mself\u001b[39m\u001b[38;5;241m.\u001b[39m_reader\u001b[38;5;241m.\u001b[39munnamed_cols\n\u001b[0;32m     97\u001b[0m \u001b[38;5;66;03m# error: Cannot determine type of 'names'\u001b[39;00m\n",
      "File \u001b[1;32mparsers.pyx:574\u001b[0m, in \u001b[0;36mpandas._libs.parsers.TextReader.__cinit__\u001b[1;34m()\u001b[0m\n",
      "File \u001b[1;32mparsers.pyx:663\u001b[0m, in \u001b[0;36mpandas._libs.parsers.TextReader._get_header\u001b[1;34m()\u001b[0m\n",
      "File \u001b[1;32mparsers.pyx:874\u001b[0m, in \u001b[0;36mpandas._libs.parsers.TextReader._tokenize_rows\u001b[1;34m()\u001b[0m\n",
      "File \u001b[1;32mparsers.pyx:891\u001b[0m, in \u001b[0;36mpandas._libs.parsers.TextReader._check_tokenize_status\u001b[1;34m()\u001b[0m\n",
      "File \u001b[1;32mparsers.pyx:2053\u001b[0m, in \u001b[0;36mpandas._libs.parsers.raise_parser_error\u001b[1;34m()\u001b[0m\n",
      "File \u001b[1;32m<frozen codecs>:325\u001b[0m, in \u001b[0;36mdecode\u001b[1;34m(self, input, final)\u001b[0m\n",
      "\u001b[1;31mUnicodeDecodeError\u001b[0m: 'utf-8' codec can't decode byte 0xc6 in position 27: invalid continuation byte"
     ]
    }
   ],
   "source": [
    "style = {\n",
    "    \"version\": 8,\n",
    "    \"sources\": {\n",
    "        \"osm\": {\n",
    "            \"type\": \"raster\",\n",
    "            \"tiles\": [\"https://a.tile.openstreetmap.org/{z}/{x}/{y}.png\"],\n",
    "            \"tileSize\": 256,\n",
    "            \"attribution\": \"&copy; OpenStreetMap Contributors\",\n",
    "            \"maxzoom\": 19,\n",
    "        },\n",
    "        \"terrainSource\": {\n",
    "            \"type\": \"raster-dem\",\n",
    "            \"url\": \"https://demotiles.maplibre.org/terrain-tiles/tiles.json\",\n",
    "            \"tileSize\": 256,\n",
    "        },\n",
    "        \"hillshadeSource\": {\n",
    "            \"type\": \"raster-dem\",\n",
    "            \"url\": \"https://demotiles.maplibre.org/terrain-tiles/tiles.json\",\n",
    "            \"tileSize\": 256,\n",
    "        },\n",
    "    },\n",
    "    \"layers\": [\n",
    "        {\"id\": \"osm\", \"type\": \"raster\", \"source\": \"osm\"},\n",
    "        {\n",
    "            \"id\": \"hills\",\n",
    "            \"type\": \"hillshade\",\n",
    "            \"source\": \"hillshadeSource\",\n",
    "            \"layout\": {\"visibility\": \"visible\"},\n",
    "            \"paint\": {\"hillshade-shadow-color\": \"#473B24\"},\n",
    "        },\n",
    "    ],\n",
    "    \"terrain\": {\"source\": \"terrainSource\", \"exaggeration\": 3},\n",
    "}\n",
    "data = \"TAQAWCFE.shp\"\n",
    "m = leafmap.Map(style=style)\n",
    "m.add_gps_trace(data,  add_line=True)\n",
    "m.add_layer_control()\n",
    "m"
   ]
  },
  {
   "cell_type": "code",
   "execution_count": 27,
   "id": "cbd76fa2-4240-4837-8288-86de4557e2db",
   "metadata": {},
   "outputs": [
    {
     "ename": "AttributeError",
     "evalue": "'Map' object has no attribute 'add_shp'",
     "output_type": "error",
     "traceback": [
      "\u001b[1;31m---------------------------------------------------------------------------\u001b[0m",
      "\u001b[1;31mAttributeError\u001b[0m                            Traceback (most recent call last)",
      "Cell \u001b[1;32mIn[27], line 5\u001b[0m\n\u001b[0;32m      3\u001b[0m m \u001b[38;5;241m=\u001b[39m leafmap1\u001b[38;5;241m.\u001b[39mMap(center\u001b[38;5;241m=\u001b[39m[\u001b[38;5;241m11.39085\u001b[39m, \u001b[38;5;241m47.27574\u001b[39m], zoom\u001b[38;5;241m=\u001b[39m\u001b[38;5;241m12\u001b[39m, pitch\u001b[38;5;241m=\u001b[39m\u001b[38;5;241m80\u001b[39m, style\u001b[38;5;241m=\u001b[39mstyle)\n\u001b[0;32m      4\u001b[0m m\u001b[38;5;241m.\u001b[39madd_layer_control()\n\u001b[1;32m----> 5\u001b[0m \u001b[43mm\u001b[49m\u001b[38;5;241;43m.\u001b[39;49m\u001b[43madd_shp\u001b[49m(shapefile_path)\n\u001b[0;32m      6\u001b[0m m\n",
      "\u001b[1;31mAttributeError\u001b[0m: 'Map' object has no attribute 'add_shp'"
     ]
    }
   ],
   "source": [
    "m2 = lp.Map(center=[11.39085, 47.27574], zoom=12, pitch=80, style=style)\n",
    "# ✅ Load the shapefile\n",
    "shapefile_path = \"TAQAWCFE.shp\"\n",
    "m = leafmap1.Map(center=[11.39085, 47.27574], zoom=12, pitch=80, style=style)\n",
    "#m.add_layer_control(bg_layers = True)\n",
    "#m = leafmap.Map(style=\"3d-hybrid\")\n",
    "m.add_layer_control()\n",
    "m\n"
   ]
  },
  {
   "cell_type": "code",
   "execution_count": 14,
   "id": "325bf8cd-5900-4943-a445-f0f70f631d94",
   "metadata": {},
   "outputs": [
    {
     "name": "stdout",
     "output_type": "stream",
     "text": [
      "   DISTCODE                                           geometry\n",
      "0  TAQAWCFE  MULTIPOLYGON (((-115.34508 52.53169, -115.3452...\n",
      "Columns: Index(['DISTCODE', 'geometry'], dtype='object')\n",
      "Geometry Column: geometry\n",
      "CRS: EPSG:4269\n"
     ]
    }
   ],
   "source": [
    "import geopandas as gpd\n",
    "\n",
    "# ✅ Load the shapefile\n",
    "shapefile_path = \"TAQAWCFE.shp\"\n",
    "gdf = gpd.read_file(shapefile_path)\n",
    "\n",
    "# ✅ Print first few rows\n",
    "print(gdf.head())\n",
    "\n",
    "# ✅ Print column names\n",
    "print(\"Columns:\", gdf.columns)\n",
    "\n",
    "# ✅ Check geometry column\n",
    "print(\"Geometry Column:\", gdf.geometry.name)\n",
    "\n",
    "# ✅ Check CRS\n",
    "print(\"CRS:\", gdf.crs)\n"
   ]
  },
  {
   "cell_type": "code",
   "execution_count": 15,
   "id": "919cb767-7c14-42cf-9fcb-4f911e8ab339",
   "metadata": {},
   "outputs": [
    {
     "name": "stdout",
     "output_type": "stream",
     "text": [
      "✅ Set geometry column to `geometry`\n"
     ]
    }
   ],
   "source": [
    "# ✅ Detect potential geometry columns\n",
    "possible_geo_cols = [col for col in gdf.columns if gdf[col].dtype.name == \"geometry\"]\n",
    "\n",
    "# ✅ If found, set it as geometry\n",
    "if possible_geo_cols:\n",
    "    gdf.set_geometry(possible_geo_cols[0], inplace=True)\n",
    "    print(f\"✅ Set geometry column to `{possible_geo_cols[0]}`\")\n",
    "else:\n",
    "    print(\"⚠️ No geometry column found in the shapefile.\")\n"
   ]
  },
  {
   "cell_type": "code",
   "execution_count": 35,
   "id": "b16a8fd9-c5d5-4ce4-9e32-8cb9b84781b3",
   "metadata": {},
   "outputs": [
    {
     "data": {
      "application/vnd.jupyter.widget-view+json": {
       "model_id": "d13322bd0d1348b786699bd4abc2344b",
       "version_major": 2,
       "version_minor": 1
      },
      "text/plain": [
       "Map(height='600px', map_options={'bearing': 0, 'center': (11.39085, 47.27574), 'pitch': 80, 'style': {'version…"
      ]
     },
     "metadata": {},
     "output_type": "display_data"
    },
    {
     "data": {
      "application/vnd.jupyter.widget-view+json": {
       "model_id": "dc5db1524dc246e0aa70638c017c83a8",
       "version_major": 2,
       "version_minor": 0
      },
      "text/plain": [
       "Map(center=[11.39085, 47.27574], controls=(ZoomControl(options=['position', 'zoom_in_text', 'zoom_in_title', '…"
      ]
     },
     "metadata": {},
     "output_type": "display_data"
    }
   ],
   "source": [
    "import leafmap.maplibregl as leafmap\n",
    "from IPython.display import display\n",
    "\n",
    "# ✅ Define the 3D Terrain Style\n",
    "style = {\n",
    "    \"version\": 8,\n",
    "    \"sources\": {\n",
    "        \"osm\": {\n",
    "            \"type\": \"raster\",\n",
    "            \"tiles\": [\"https://a.tile.openstreetmap.org/{z}/{x}/{y}.png\"],\n",
    "            \"tileSize\": 256,\n",
    "            \"attribution\": \"&copy; OpenStreetMap Contributors\",\n",
    "            \"maxzoom\": 19,\n",
    "        },\n",
    "        \"terrainSource\": {\n",
    "            \"type\": \"raster-dem\",\n",
    "            \"url\": \"https://demotiles.maplibre.org/terrain-tiles/tiles.json\",\n",
    "            \"tileSize\": 256,\n",
    "        },\n",
    "        \"hillshadeSource\": {\n",
    "            \"type\": \"raster-dem\",\n",
    "            \"url\": \"https://demotiles.maplibre.org/terrain-tiles/tiles.json\",\n",
    "            \"tileSize\": 256,\n",
    "        },\n",
    "    },\n",
    "    \"layers\": [\n",
    "        {\"id\": \"osm\", \"type\": \"raster\", \"source\": \"osm\"},\n",
    "        {\n",
    "            \"id\": \"hills\",\n",
    "            \"type\": \"hillshade\",\n",
    "            \"source\": \"hillshadeSource\",\n",
    "            \"layout\": {\"visibility\": \"visible\"},\n",
    "            \"paint\": {\"hillshade-shadow-color\": \"#473B24\"},\n",
    "        },\n",
    "    ],\n",
    "    \"terrain\": {\"source\": \"terrainSource\", \"exaggeration\": 1.2},\n",
    "}\n",
    "\n",
    "# ✅ Create First Map (m1) - Base Terrain\n",
    "m1 = leafmap.Map(center=[11.39085, 47.27574], zoom=12, pitch=80, style=style)\n",
    "m1.add_layer_control(bg_layers=True)\n",
    "\n",
    "# ✅ Create Second Map (m2) - Shapefile Overlay\n",
    "m2 = lp.Map(center=[11.39085, 47.27574], zoom=12, pitch=80, style=style)\n",
    "shapefile_path = \"TAQAWCFE.shp\"\n",
    "m2.add_shp(shapefile_path, layer_name=\"Shapefile Layer\")\n",
    "m2.add_layer_control()\n",
    "\n",
    "# ✅ Display Both Maps Together\n",
    "display(m1, m2)\n"
   ]
  },
  {
   "cell_type": "code",
   "execution_count": 1,
   "id": "4d154c60-1098-42e4-a48d-88fab9c948b5",
   "metadata": {},
   "outputs": [],
   "source": [
    "api_url = \"https://earth-search.aws.element84.com/v1\""
   ]
  },
  {
   "cell_type": "code",
   "execution_count": 2,
   "id": "933d36f0-af0c-4055-a182-43e54bde4034",
   "metadata": {},
   "outputs": [
    {
     "ename": "ModuleNotFoundError",
     "evalue": "No module named 'pystac_client'",
     "output_type": "error",
     "traceback": [
      "\u001b[1;31m---------------------------------------------------------------------------\u001b[0m",
      "\u001b[1;31mModuleNotFoundError\u001b[0m                       Traceback (most recent call last)",
      "Cell \u001b[1;32mIn[2], line 1\u001b[0m\n\u001b[1;32m----> 1\u001b[0m \u001b[38;5;28;01mfrom\u001b[39;00m \u001b[38;5;21;01mpystac_client\u001b[39;00m \u001b[38;5;28;01mimport\u001b[39;00m Client\n\u001b[0;32m      3\u001b[0m client \u001b[38;5;241m=\u001b[39m Client\u001b[38;5;241m.\u001b[39mopen(api_url)\n",
      "\u001b[1;31mModuleNotFoundError\u001b[0m: No module named 'pystac_client'"
     ]
    }
   ],
   "source": [
    "from pystac_client import Client\n",
    "\n",
    "client = Client.open(api_url)"
   ]
  },
  {
   "cell_type": "code",
   "execution_count": null,
   "id": "e1c3a2ff-82ae-4485-9b16-c7fc5d400b51",
   "metadata": {},
   "outputs": [],
   "source": []
  }
 ],
 "metadata": {
  "kernelspec": {
   "display_name": "Python 3 (ipykernel)",
   "language": "python",
   "name": "python3"
  },
  "language_info": {
   "codemirror_mode": {
    "name": "ipython",
    "version": 3
   },
   "file_extension": ".py",
   "mimetype": "text/x-python",
   "name": "python",
   "nbconvert_exporter": "python",
   "pygments_lexer": "ipython3",
   "version": "3.12.7"
  }
 },
 "nbformat": 4,
 "nbformat_minor": 5
}
